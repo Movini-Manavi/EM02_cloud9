{
  "nbformat": 4,
  "nbformat_minor": 0,
  "metadata": {
    "colab": {
      "provenance": []
    },
    "kernelspec": {
      "name": "python3",
      "display_name": "Python 3"
    },
    "language_info": {
      "name": "python"
    }
  },
  "cells": [
    {
      "cell_type": "code",
      "source": [
        "\n",
        "import pandas as pd\n",
        "import numpy as np\n",
        "\n",
        "from sklearn.model_selection import train_test_split, RandomizedSearchCV\n",
        "from sklearn.preprocessing import StandardScaler, OneHotEncoder\n",
        "from sklearn.compose import ColumnTransformer\n",
        "from sklearn.pipeline import Pipeline\n",
        "from sklearn.impute import SimpleImputer\n",
        "from sklearn.ensemble import RandomForestClassifier\n",
        "from sklearn.metrics import accuracy_score, precision_score, recall_score, f1_score, roc_auc_score, classification_report\n",
        "\n"
      ],
      "metadata": {
        "id": "hmqZEwY0lkEK"
      },
      "execution_count": 48,
      "outputs": []
    },
    {
      "cell_type": "code",
      "source": [
        "train = pd.read_csv('/content/Train Dataset.csv')\n",
        "test = pd.read_csv('/content/Test Dataset.csv')"
      ],
      "metadata": {
        "id": "OKVgDXTklvu0"
      },
      "execution_count": 49,
      "outputs": []
    },
    {
      "cell_type": "code",
      "source": [
        "X = train.drop(['patient_id', 'heart_attack_risk'], axis=1)\n",
        "y = train['heart_attack_risk']\n",
        "X_test = test.drop(['patient_id'], axis=1)\n",
        "test_ids = test['patient_id']\n"
      ],
      "metadata": {
        "id": "wLSr3d7Vl2so"
      },
      "execution_count": 50,
      "outputs": []
    },
    {
      "cell_type": "code",
      "source": [
        "cat_cols = X.select_dtypes(include=['object']).columns\n",
        "num_cols = X.select_dtypes(exclude=['object']).columns"
      ],
      "metadata": {
        "id": "5zjNYCwql4sS"
      },
      "execution_count": 51,
      "outputs": []
    },
    {
      "cell_type": "code",
      "source": [
        "numeric_transformer = Pipeline([\n",
        "    ('imputer', SimpleImputer(strategy='median')),\n",
        "    ('scaler', StandardScaler())\n",
        "])\n",
        "\n",
        "categorical_transformer = Pipeline([\n",
        "    ('imputer', SimpleImputer(strategy='most_frequent')),\n",
        "    ('onehot', OneHotEncoder(handle_unknown='ignore'))\n",
        "])\n",
        "\n",
        "preprocessor = ColumnTransformer([\n",
        "    ('num', numeric_transformer, num_cols),\n",
        "    ('cat', categorical_transformer, cat_cols)\n",
        "])"
      ],
      "metadata": {
        "id": "TLUtmWmOl8BK"
      },
      "execution_count": 52,
      "outputs": []
    },
    {
      "cell_type": "code",
      "source": [
        "clf = Pipeline([\n",
        "    ('preprocessor', preprocessor),\n",
        "    ('classifier', RandomForestClassifier(random_state=42, class_weight='balanced'))\n",
        "])"
      ],
      "metadata": {
        "id": "S5TjX2zGl-j7"
      },
      "execution_count": 53,
      "outputs": []
    },
    {
      "cell_type": "code",
      "source": [
        "X_train, X_val, y_train, y_val = train_test_split(\n",
        "    X, y, test_size=0.2, random_state=42, stratify=y\n",
        ")"
      ],
      "metadata": {
        "id": "knzRsad1mAnA"
      },
      "execution_count": 54,
      "outputs": []
    },
    {
      "cell_type": "code",
      "source": [
        "param_grid = {\n",
        "    'classifier__n_estimators': [100, 200],\n",
        "    'classifier__max_depth': [8, 12, None],\n",
        "    'classifier__min_samples_split': [2, 5, 10]\n",
        "}\n",
        "\n",
        "search = RandomizedSearchCV(\n",
        "    clf, param_distributions=param_grid, n_iter=5, cv=3,\n",
        "    scoring='recall', n_jobs=-1, random_state=42\n",
        ")\n",
        "search.fit(X_train, y_train)\n",
        "best_model = search.best_estimator_\n",
        "print(\"Best parameters:\", search.best_params_)"
      ],
      "metadata": {
        "colab": {
          "base_uri": "https://localhost:8080/"
        },
        "id": "ri8Ff19RmE5h",
        "outputId": "7ec3e4d4-2d0c-4c08-f09d-3adf8dcefdb7"
      },
      "execution_count": 60,
      "outputs": [
        {
          "output_type": "stream",
          "name": "stdout",
          "text": [
            "Best parameters: {'classifier__n_estimators': 200, 'classifier__min_samples_split': 5, 'classifier__max_depth': 8}\n"
          ]
        }
      ]
    },
    {
      "cell_type": "code",
      "source": [
        "y_pred = best_model.predict(X_val)\n",
        "y_proba = best_model.predict_proba(X_val)[:,1]\n",
        "\n",
        "print(\"Accuracy  = \", accuracy_score(y_val, y_pred))\n",
        "print(\"Precision = \", precision_score(y_val, y_pred))\n",
        "print(\"Recall    = \", recall_score(y_val, y_pred))\n",
        "print(\"F1-score  = \", f1_score(y_val, y_pred))\n",
        "print(\"ROC-AUC   = \", roc_auc_score(y_val, y_proba))\n",
        "print(\"\\nClassification Report:\\n\\n\", classification_report(y_val, y_pred))\n"
      ],
      "metadata": {
        "colab": {
          "base_uri": "https://localhost:8080/"
        },
        "id": "JKnVPMMgmMN_",
        "outputId": "43f0721f-c4e4-4495-c0a5-19383ac325d2"
      },
      "execution_count": 70,
      "outputs": [
        {
          "output_type": "stream",
          "name": "stdout",
          "text": [
            "Accuracy  =  0.5568110483364721\n",
            "Precision =  0.3244444444444444\n",
            "Recall    =  0.2664233576642336\n",
            "F1-score  =  0.2925851703406814\n",
            "ROC-AUC   =  0.48832815283064995\n",
            "\n",
            "Classification Report:\n",
            "\n",
            "               precision    recall  f1-score   support\n",
            "\n",
            "           0       0.65      0.71      0.68      1045\n",
            "           1       0.32      0.27      0.29       548\n",
            "\n",
            "    accuracy                           0.56      1593\n",
            "   macro avg       0.49      0.49      0.48      1593\n",
            "weighted avg       0.54      0.56      0.54      1593\n",
            "\n"
          ]
        }
      ]
    },
    {
      "cell_type": "code",
      "source": [
        "test_pred = best_model.predict(X_test)\n",
        "submission = pd.DataFrame({\n",
        "    'patient_id': test_ids,\n",
        "    'heart_attack_risk': test_pred\n",
        "})\n",
        "submission.to_csv('EM02_cloud9_Predictions.csv', index=False)"
      ],
      "metadata": {
        "id": "Q8qwf3O8mO5s"
      },
      "execution_count": 72,
      "outputs": []
    }
  ]
}